{
  "nbformat": 4,
  "nbformat_minor": 0,
  "metadata": {
    "colab": {
      "name": "Copy of HW2.ipynb",
      "provenance": [],
      "collapsed_sections": [],
      "include_colab_link": true
    },
    "kernelspec": {
      "name": "python3",
      "display_name": "Python 3"
    }
  },
  "cells": [
    {
      "cell_type": "markdown",
      "metadata": {
        "id": "view-in-github",
        "colab_type": "text"
      },
      "source": [
        "<a href=\"https://colab.research.google.com/github/uclalch/Localizing-and-visualizing-wireless-sensor/blob/master/Copy_of_HW2.ipynb\" target=\"_parent\"><img src=\"https://colab.research.google.com/assets/colab-badge.svg\" alt=\"Open In Colab\"/></a>"
      ]
    },
    {
      "cell_type": "markdown",
      "metadata": {
        "id": "HHEXA-TUpa_j",
        "colab_type": "text"
      },
      "source": [
        "# UCLA Fall 2019 ECEM202A/CSM213A Assignment 2\n",
        "## Due: December 13, 11:59PM\n",
        "Instructions: \n",
        "* There will be no deadline extension.\n",
        "* Please make a copy of this [Google Colab](https://colab.research.google.com/) notebook and put your code and answer within it.\n",
        "* You can use any Python package. You may need to install it if Google Colab doesn't already have it.\n",
        "* You have to submit this homework via Gradescope. You have already been enrolled there using the official roster. In the PDF that you upload on Gradescope, please start the answer to every problem on a new page and make sure to assign pages to each of problem/subproblem correctly within Gradescope.\n",
        "---"
      ]
    },
    {
      "cell_type": "markdown",
      "metadata": {
        "id": "FbPI_UFtERnc",
        "colab_type": "text"
      },
      "source": [
        "### Your Name:\n",
        "Jinchi Li\n",
        "\n",
        "### URL:\n",
        "https://colab.research.google.com/drive/1eddBM2vnOTAprX2WwvKjqEm1V4By0mSi\n",
        "\n",
        "---"
      ]
    },
    {
      "cell_type": "markdown",
      "metadata": {
        "id": "li3VSFSdp_Qy",
        "colab_type": "text"
      },
      "source": [
        "## Problem #1: Topic Deep Dive [15 points]\n",
        "\n",
        "Pick one of the topics from the list below, and based on web research write a 1-2 page (500-1000 words; excluding references and figures) essay / survey on the topic. Adapt your presentation to the nature of the topic with the goal of informing the reader about the current state of technology.\n",
        "\n",
        "* Ultra-low-latency networking and its applications\n",
        "* Time synchronization and latency in financial markets\n",
        "* Security vulnerabilities and mitigation in NTP"
      ]
    },
    {
      "cell_type": "markdown",
      "metadata": {
        "id": "xUZTXQsvqJXl",
        "colab_type": "text"
      },
      "source": [
        "### Answer:\n",
        "\n",
        "**Ultra-low-latency Networking and Applications**\n",
        "\n",
        "With increasing need for communication between companies, people, systems, and even individual devices, the requirement for the communication system becomes more and more high-spec. The channel capacity and transfer speed of communication has been improved significantly through the last generations of communication system changes. Even though the latency of communication is getting cut down for a lot, the requirement for advanced IoT system is still stressing the limit of today’s communication latency performance. “Other emerging use cases like mission-critical machine-type communication (MTC) and control of self-driving cars present a need for less than 1 millisecond of latency.” (Ford, Zhang and Mezzavilla)To better serve the users, many actions done by the IoT system must be completed in a timely manner. To achieve such performance, many applications are very latency-sensitive. One direct way to address this problem is to physically put devices as close to each other as possible. However, due to environmental limitations, in many cases deploying IoT devices and server close to each other is either impossible or too costly. “Utility computing in the Cloud can solve this issue but the latency requirements must be carefully assessed.” (Gomes and Pardal)\n",
        "One of the recently hot topics about communication is 5G, the fifth generation of wireless communication technology. The 5G not only can provide higher data rates to allow the users to access to online resources quicker but also can give the much lower latency, which is less than milliseconds, that is crucial for IoT and streaming services. (Dean) Other than the small and distributed IoT devices. Given the excellent latency performance, the 5G networks are expected to support a class of applications much more extreme latency constraints than even the mobile edge cloud architecture can meet. (Ford, Zhang and Mezzavilla)\n",
        "For example, the modern factories that have put a lot of automation industrial robots would benefit a lot from ultra-low latency brought by the 5G network. Especially for some time-critical process, such as real-time, closed-loop robotic control, the usage of 5G ultra-low latency can greatly increase the efficiency and the yields of the whole system. More than productivity, the improvement of latency standard can allow more cushion room for unexpected errors so that the safety of the manufacturing can be also improved. (GABRIEL BROWN)\n",
        "As for more open area case, the 5G provides the low latency to the video surveillance system in the public areas. Samsung Electronics Co., Ltd. and KDDI have announced that they have successfully finished a 5G test with real-time transmission of 4K ultra-high-definition (UHD) surveillance video on a train platform. In this test, Samsung demonstrated effective communications through 4K UHD video using a 28GHz band 5G base station. “There was a specific need with this project to provide high quality video in a way that was robust enough to be relied upon on a busy transport network in Tokyo,” said Yoshiaki Uchida, Member of the Board, Executive Vice President at KDDI. “It was therefore imperative that we work with Samsung, a company we have an existing 5G relationship with, as well as other trusted partners to deliver a solution that will help the train system provide a better service in the 5G era.” (U.S.) \n",
        "Compared to the traditional wired video surveillance system, the adoption of wireless communication system such as WIFI and cellular becomes more and more popular since its fast set-up time and lower financial cost. As the case of using 5G cellular technology, it is preferred when the scenario is a temporary static installation one. Even though 4G LTE network can meet the basic requirement for the video surveillance, the adoption of 5G can provide more functionality to the system such as real-time sophisticated video content analytics that can improve the efficiency of the system by a lot. (Pasqua)\n",
        "Not only ultra-low latency would help the wide-spread IoT devices, the 5G cellular communication network becomes more and more a key to the development of autonomous driving vehicles. By deploying the 5G network across the self-driving vehicles, the systems of the vehicles can use the V2V (vehicle-to-vehicle) applications to boost the service. Thanks to the nature of cellular communication, 5G can further extend the usable scenario to C-V2X (cellular vehicle to everything) applications. The C-V2X can map all the surrounding items so that the system of self-driving vehicles can not only tell what the vehicle is doing, it can also check the complex traffic situation and update it rapidly. The ultra-low latency enables high refresh rate for the surrounding scan. “The low latency of 5G means that the responsiveness will be much more instantaneous, which autonomous cars will need to have in order to interpret sudden changes in road conditions and also where hazards occur.” (Clymo)\n",
        "\n",
        "**Bibliography**\n",
        "\n",
        "Clymo, Rob. What does 5G mean for autonomous vehicles? 25 June 2019. <https://www.techradar.com/news/what-does-5g-mean-for-autonomous-vehicles>.\n",
        "Dean, James. How 5G technologies can be implemented more efficiently. 5 December 2018. <https://www.techradar.com/news/how-5g-technologies-can-be-implemented-more-efficiently>.\n",
        "Ford, Russell, et al. \"Achieving Ultra-Low Latency in 5G Millimeter Wave Cellular Networks.\" IEEE Communications Magazine 55.3 (2017): 196-203. 12 12 2019. <http://ieeexplore.ieee.org/document/7876982>.\n",
        "GABRIEL BROWN, PRINCIPAL ANALYST, HEAVY READING. \"Ultra-Reliable Low-Latency 5G for Industrial Automation.\" White paper. n.d.\n",
        "Gomes, Marcus and Miguel L. Pardal. \"Cloud vs Fog: assessment of alternative deployments for a latency-sensitive IoT application.\" Procedia Computer Science 130 (2018): 488-495. 12 12 2019. <https://sciencedirect.com/science/article/pii/s1877050918304125>.\n",
        "Pasqua, Eugenio. The Leading 5G IoT Use Cases. 9 September 2019. <https://iot-analytics.com/the-leading-5g-iot-use-cases-2019/>.\n",
        "U.S., Samsung Newsroom. Samsung and KDDI Demonstrate Real Time 4K Video Communication Powered by 5G at a Japanese Train Station. 14 January 2019. <https://news.samsung.com/us/samsung-kddi-demonstrate-real-time-4k-video-communication-powered-5g-japanese-train-station/>.\n",
        "\n",
        "\n",
        "\n"
      ]
    },
    {
      "cell_type": "markdown",
      "metadata": {
        "id": "kRTNfUrvqfvI",
        "colab_type": "text"
      },
      "source": [
        "---"
      ]
    },
    {
      "cell_type": "markdown",
      "metadata": {
        "id": "RyHpCpyX_Psb",
        "colab_type": "text"
      },
      "source": [
        "## Problem #2: In the News [5 points]\n",
        "\n",
        "Research the web to find an incident that resulted in loss of service or of life or property, and whose cause related to the computing system having bad information about time. Your example must not be one that are already in the lecture slides. In a few sentences (max 200 words) describe the incident(s), the cause, and possible mitigation."
      ]
    },
    {
      "cell_type": "markdown",
      "metadata": {
        "id": "cub9zIuG_W5p",
        "colab_type": "text"
      },
      "source": [
        "### Answer:\n",
        "The Year 2000 problem, also known as the Millennium bug, refers to a class of computer bugs related to the formatting and storage of calendar data for dates beginning in the year 2000. Problems were anticipated, and arose, because many programs represented four-digit years with only the final two digits – making the year 2000 indistinguishable from 1900. \n",
        "\n",
        "Around the world, lots of radio equipment are down and some ATMs also malfunctioned. The C programming language, which supports many other programming languages, incorrectly treated 2000 as 19100 year.\n",
        "\n",
        "Possible mitigation can be reprogramming the firmware for the devices that heavily rely on time to provide service. \n"
      ]
    },
    {
      "cell_type": "markdown",
      "metadata": {
        "id": "h2ptZvQbDMN0",
        "colab_type": "text"
      },
      "source": [
        "---"
      ]
    },
    {
      "cell_type": "markdown",
      "metadata": {
        "id": "OalKYt_iDLIo",
        "colab_type": "text"
      },
      "source": [
        "## Problem #3: Short Questions on Time [5 x 2 = 10 points]\n",
        "\n",
        "Note: The following will be graded on a binary basis with either zero score or full credit being given."
      ]
    },
    {
      "cell_type": "markdown",
      "metadata": {
        "id": "k-LbVBDpFFm2",
        "colab_type": "text"
      },
      "source": [
        "**a. Name at least two factors that fundamentally limit how precisely one can synchronize two computers talking over a communication link. Expain.**"
      ]
    },
    {
      "cell_type": "markdown",
      "metadata": {
        "id": "6E7GK5vPGUYy",
        "colab_type": "text"
      },
      "source": [
        "Answer: \n",
        "1. unexpected clock skew: always need to count for the maximum possible clock skew to make sure no error in clock signals\n",
        "2. signal travel speed: the speed can't go above the speed of light, thus must have a certain amount of delay while the sync signal is still travelling from on device to another."
      ]
    },
    {
      "cell_type": "markdown",
      "metadata": {
        "id": "b6I5Ea6NGFA6",
        "colab_type": "text"
      },
      "source": [
        "**b. With current technology how precisely can one synchronize two computers connected via an ethernet cable>? Explain your answer and support any assumptions via references.**"
      ]
    },
    {
      "cell_type": "markdown",
      "metadata": {
        "id": "aiEhG3M_GVrt",
        "colab_type": "text"
      },
      "source": [
        "Answer: \n",
        "The best case can be 100ns-1µs (PTP)\n",
        "\n",
        "Reference: Page 6 of https://www.eiseverywhere.com/file_uploads/dd049b571268537a3bf859350f0c3c4f_04IEEEPTPpresentation.pdf"
      ]
    },
    {
      "cell_type": "markdown",
      "metadata": {
        "id": "Mmz1jlpfGWck",
        "colab_type": "text"
      },
      "source": [
        "**c. There is considerable ambiguity in jargon relating to clocks, and it does not helpo that different research communities use different terms. One relevant standard is Internet RFC 2330 (Framework for IP Performance Metrics). Read Section 10 of this RFC, and describe what is the difference between the following terms: offset, relative offset, skew, relative skew, and drift.**"
      ]
    },
    {
      "cell_type": "markdown",
      "metadata": {
        "id": "JZEjAQNLI6R1",
        "colab_type": "text"
      },
      "source": [
        "Answer: \n",
        "\n",
        "**offset**: at a particular moment as the difference between the time reported by the clock and the \"true\" time as defined by UTC\n",
        "\n",
        "**relative** **offset**: the difference of one offset of clock A to a reference clock and the other offset of clock B to the same reference clock\n",
        "\n",
        "**skew**: is the frequency difference between the clock and true time.clock's \"skew\" at a particular moment \n",
        "\n",
        "**relative** **skew**: the difference of one skew of clock A to a reference clock and the other skew of clock B to the same reference clock\n",
        "\n",
        "**drift**: Real clocks exhibit some variation in skew. The second derivative of the clock's offset with respect to true time is generally non-zero, which is the clock's \"drift\"."
      ]
    },
    {
      "cell_type": "markdown",
      "metadata": {
        "id": "k5Oey4nBJBKw",
        "colab_type": "text"
      },
      "source": [
        "**d. What is the process of minimizing the difference between the frequencies of two clocks called?**"
      ]
    },
    {
      "cell_type": "markdown",
      "metadata": {
        "id": "11I9BHqjKBvt",
        "colab_type": "text"
      },
      "source": [
        "Answer: \"Frequency Synchronization\""
      ]
    },
    {
      "cell_type": "markdown",
      "metadata": {
        "id": "GU_ECvx-KN9H",
        "colab_type": "text"
      },
      "source": [
        "***e. Allowing software processes running on a computer to measure passage of time very precisely can lead to security problems, to the extent that in some computer systems the time made visible to an application is made deliberately less precise. Can you suggest one security vulnerability that occurs because time intervals can be measured too well? Provide reference to any paper that you consult.***"
      ]
    },
    {
      "cell_type": "markdown",
      "metadata": {
        "id": "HXuY-kg_KLn9",
        "colab_type": "text"
      },
      "source": [
        "Answer: The software may be able to deliberately send request to the OS and intentional jam the OS and prevent it from answering other requests."
      ]
    },
    {
      "cell_type": "markdown",
      "metadata": {
        "id": "PXqOxvvZ_aRn",
        "colab_type": "text"
      },
      "source": [
        "---"
      ]
    },
    {
      "cell_type": "markdown",
      "metadata": {
        "id": "ECpFaFKYqEY2",
        "colab_type": "text"
      },
      "source": [
        "## Problem #4: Analyzing Quality of Clocks [4 x 5 = 20 points]\n",
        "\n",
        "In the lecture we saw how clocks drift differently to each other. Assume we have two crystal oscillators both running at a nominal frequency of 8 MHz. We connect each crystal to a counter, and collect in regular intervals the value of the counter. The frequency with which we collect the values is precisely 1Hz (you can assume that this is generated by an atomic clock). \n",
        "\n",
        "Answer the following questions by using clock measurement data in the CSV file at https://drive.google.com/file/d/1AIkNxEWXCqGCEO6hPGHlkU5lHM5Sk6Dz. The columns are: atomic time [seconds], temperature, count of crystal 1, count of crystal 2.\n",
        "\n",
        "All your code should be in the code blocks below and be runnable."
      ]
    },
    {
      "cell_type": "markdown",
      "metadata": {
        "id": "2zp3NgZ7vPXR",
        "colab_type": "text"
      },
      "source": [
        "#### a. Calculate and plot the Allan variance for each crystal.\n",
        "\n",
        "#### Answer:"
      ]
    },
    {
      "cell_type": "code",
      "metadata": {
        "id": "zcSwpRYNvwNM",
        "colab_type": "code",
        "colab": {}
      },
      "source": [
        "import csv, requests\n",
        "\n",
        "import matplotlib.pyplot as plt\n",
        "\n",
        "path = \"https://raw.githubusercontent.com/uclalch/Localizing-and-visualizing-wireless-sensor/master/GNURadio_files/clock_drift_data.csv\"\n",
        "result = requests.get(path)\n",
        "content = result.content.decode('utf-8')\n",
        "df = csv.reader(content.splitlines(), delimiter=',')\n",
        "data = list(df)\n",
        "\n",
        "index = []\n",
        "temp = []\n",
        "crys_1 = []\n",
        "crys_2 = []\n",
        "crsytal_one_var = []\n",
        "crsytal_two_var = []\n",
        "crsytal_one_diff = []\n",
        "crsytal_two_diff = []\n",
        "base = 8000000.00\n",
        "print(\"length, \"+str(len(data)))\n",
        "for i in range(len(data)):\n",
        "    print(i)\n",
        "    index.append(data[i][0])\n",
        "    temp.append(data[i][1])\n",
        "    crys_1.append(data[i][2])\n",
        "    crys_2.append(data[i][3])\n",
        "\n",
        "    if i != 0:\n",
        "        crsytal_one_diff.append((float(data[i][2]) - float(data[i - 1][2])))\n",
        "        crsytal_two_diff.append((float(data[i][3]) - float(data[i - 1][3])))\n",
        "        crsytal_one_var.append(0.5 * (((float(data[i][2]) - float(data[i - 1][2])) / base) ** 2))\n",
        "        crsytal_two_var.append(0.5 * (((float(data[i][3]) - float(data[i - 1][3])) / base) ** 2))\n",
        "plot_index = index[1:len(index)]\n",
        "plt.plot(plot_index, crsytal_one_var, label=\"crystal one\")\n",
        "plt.plot(plot_index, crsytal_two_var, label=\"crystal two\")\n",
        "print('This part has been tested. It will take a while to show the plot but it will eventually come up')\n",
        "#This part has been tested. It will take a while to show the plot but it will eventually come up.\n",
        "plt.show()\n",
        "print('done')"
      ],
      "execution_count": 0,
      "outputs": []
    },
    {
      "cell_type": "markdown",
      "metadata": {
        "id": "jZdYvInFvRRN",
        "colab_type": "text"
      },
      "source": [
        "#### b. Extract the temperature vs. frequency curve for each crystal and plot it.\n",
        "\n",
        "#### Answer:"
      ]
    },
    {
      "cell_type": "code",
      "metadata": {
        "id": "Wp56z8alv_ZL",
        "colab_type": "code",
        "colab": {}
      },
      "source": [
        "# Code for part b\n",
        "\n",
        "plt.plot(temp[1:len(temp)], crsytal_one_diff, label=\"crystal one\")\n",
        "plt.plot(temp[1:len(temp)], crsytal_two_diff, label=\"crystal two\")\n",
        "#This part has been tested. It will take a while to show the plot but it will eventually come up.\n",
        "plt.show()\n"
      ],
      "execution_count": 0,
      "outputs": []
    },
    {
      "cell_type": "markdown",
      "metadata": {
        "id": "_Ea6nb74vSV0",
        "colab_type": "text"
      },
      "source": [
        "#### c. By using the T vs. f curve from the part (b), create a TCXO and compensate the frequency of each crystal.\n",
        "\n",
        "#### Answer:"
      ]
    },
    {
      "cell_type": "code",
      "metadata": {
        "id": "KcbowvrWwKnK",
        "colab_type": "code",
        "colab": {}
      },
      "source": [
        "# Code for part c"
      ],
      "execution_count": 0,
      "outputs": []
    },
    {
      "cell_type": "markdown",
      "metadata": {
        "id": "klomNTN1wMVA",
        "colab_type": "text"
      },
      "source": [
        "#### d. Plot a graph that shows the error without and with compensation, compared to what an atomic clock would have. Calculate the Allan variance of the compensated crystal. Do you notice something?\n",
        "\n",
        "#### Answer:"
      ]
    },
    {
      "cell_type": "code",
      "metadata": {
        "id": "ezCsovGhwVa4",
        "colab_type": "code",
        "colab": {}
      },
      "source": [
        "# Code for part d"
      ],
      "execution_count": 0,
      "outputs": []
    },
    {
      "cell_type": "markdown",
      "metadata": {
        "id": "loBT8lrCcTX5",
        "colab_type": "text"
      },
      "source": [
        "\n",
        "\n",
        "---\n",
        "\n"
      ]
    },
    {
      "cell_type": "markdown",
      "metadata": {
        "id": "rUhJHpNl--qk",
        "colab_type": "text"
      },
      "source": [
        "## Problem #5: Smarter Sampling [10 points]\n",
        "\n",
        "You have a sensor that measured a single over a 10 second time interval. We are given that the physical process generates a sine wave $a \\cdot sin(2 \\cdot \\pi \\cdot f \\cdot t + \\phi)$ of some unknown amplitude $a$, frequence $f$, and phase $\\phi$. In light of this knowledge, the software saves on sampling by only making 8 measurements over the 10 second interval based on the idea that there are only three unknown parameters in a sine wave, and thus only a minimum of three samples are needed (and any more only serve to make tbe estimate more robust0. The measurements are as below (time is in seconds from the start of the interval). \n",
        "\n",
        "Reconstruct the measured signal waveform over the 10s interval by estimating the amplitude, frequency (in Hz), and phase (in radians). \n",
        "\n",
        "Think about both scalability and accuracy of your solution.\n",
        "\n",
        "| t (sec) | v |\n",
        "|----- | --- |\n",
        "| 5.71403 | 0.347064 |\n",
        "| 4.28889 | -0.396854 |\n",
        "| 5.78091 | -7.29133e-05 |\n",
        "| 2.06098 | 0.380579 |\n",
        "| 8.13321 | 0.272391 |\n",
        "| 8.23589 | -0.304111 |\n",
        "| 6.53473 | 0.265354 |\n",
        "| 1.6023 | 0.131908 |\n"
      ]
    },
    {
      "cell_type": "code",
      "metadata": {
        "id": "nFhn4ElRTkmG",
        "colab_type": "code",
        "outputId": "4545bf8f-a167-43aa-80fb-328256ea81bd",
        "colab": {
          "base_uri": "https://localhost:8080/",
          "height": 341
        }
      },
      "source": [
        "import numpy as np\n",
        "import sympy as sym\n",
        "import matplotlib.pyplot as plt\n",
        "from scipy import optimize\n",
        "import math\n",
        "from scipy.optimize import fsolve\n",
        "\n",
        "measurements = [(5.71403, 0.347064), (4.28889, -0.396854), (5.78091, -7.29133e-05),\n",
        "                (2.06098, 0.380579), (8.13321, 0.272391), (8.23589, -0.304111), (6.53473, 0.265354), (1.6023, 0.131908)]\n",
        "\n",
        "\n",
        "def findTime(measurement):\n",
        "    return measurement[0]\n",
        "\n",
        "\n",
        "def func_cos(x, n):\n",
        "    cos_approx = 0\n",
        "    for i in range(n):\n",
        "        coef = (-1) ** i\n",
        "        num = x ** (2 * i)\n",
        "        denom = math.factorial(2 * i)\n",
        "        cos_approx += (coef) * ((num) / (denom))\n",
        "\n",
        "    return cos_approx\n",
        "\n",
        "\n",
        "def para2sin(amp, freq, phase, time):\n",
        "    radian = math.radians(90) - (2 * math.pi * freq * time + phase)\n",
        "    return amp * func_cos(radian, 2)\n",
        "\n",
        "\n",
        "# write the function below, returning a tuple (amplitude, frequency, phase)\n",
        "def reconstruct_waveform(data):\n",
        "    size = len(measurements)\n",
        "    time = []\n",
        "    voltage = []\n",
        "    data.sort(key=findTime)\n",
        "    for i in range(size):\n",
        "        time.append(measurements[i][0])\n",
        "        voltage.append(measurements[i][1])\n",
        "\n",
        "    # params, params_covariance = optimize.curve_fit(test_func, time, voltage, method='trf')\n",
        "    sym.init_printing()\n",
        "\n",
        "    print(\"Been here\")\n",
        "    x, y, z = sym.symbols('x,y,z')\n",
        "    f = sym.Eq(para2sin(x, y, z, time[0]), voltage[0])\n",
        "    print(f)\n",
        "    g = sym.Eq(para2sin(x, y, z, time[1]), voltage[1])\n",
        "    print(g)\n",
        "    h = sym.Eq(para2sin(x, y, z, time[2]), voltage[2])\n",
        "    print(h)\n",
        "\n",
        "    # a, b, c = sym.symbols('x,y,z')\n",
        "    # c1 = sym.Symbol('c1')\n",
        "    # o = sym.Eq(2 * a ** 2 + b + c, 1)\n",
        "    # p = sym.Eq(a + 2 * b + c, c1)\n",
        "    # q = sym.Eq(-2 * a + b, -c)\n",
        "\n",
        "    # print(sym.solve([o, p, q], (a, b, c)))\n",
        "\n",
        "    print(\"B4\")\n",
        "    ans = sym.solve([f, g, h], (x, y, z))\n",
        "    print(ans)\n",
        "    amp = ans[0]\n",
        "    freq = ans[1]\n",
        "    phi = ans[2]\n",
        "    print(\"FF\")\n",
        "\n",
        "    t = np.linspace(0.0, math.ceil(max(time)), num=100)\n",
        "    plt.plot(time, voltage, '-*')\n",
        "    plt.plot(t, amp * np.sin(freq * t * 2 * math.pi + phi))\n",
        "\n",
        "    plt.show()\n",
        "    return (amp,freq,phi)\n",
        "\n",
        "\n",
        "reconstruct_waveform(measurements)"
      ],
      "execution_count": 0,
      "outputs": [
        {
          "output_type": "error",
          "ename": "KeyboardInterrupt",
          "evalue": "ignored",
          "traceback": [
            "\u001b[0;31m---------------------------------------------------------------------------\u001b[0m",
            "\u001b[0;31mKeyboardInterrupt\u001b[0m                         Traceback (most recent call last)",
            "\u001b[0;32m<ipython-input-87-ea16c2d7f661>\u001b[0m in \u001b[0;36m<module>\u001b[0;34m()\u001b[0m\n\u001b[1;32m     63\u001b[0m \u001b[0;34m\u001b[0m\u001b[0m\n\u001b[1;32m     64\u001b[0m \u001b[0;34m\u001b[0m\u001b[0m\n\u001b[0;32m---> 65\u001b[0;31m \u001b[0mreconstruct_waveform\u001b[0m\u001b[0;34m(\u001b[0m\u001b[0mmeasurements\u001b[0m\u001b[0;34m)\u001b[0m\u001b[0;34m\u001b[0m\u001b[0;34m\u001b[0m\u001b[0m\n\u001b[0m",
            "\u001b[0;32m<ipython-input-87-ea16c2d7f661>\u001b[0m in \u001b[0;36mreconstruct_waveform\u001b[0;34m(data)\u001b[0m\n\u001b[1;32m     48\u001b[0m   \u001b[0mh\u001b[0m \u001b[0;34m=\u001b[0m \u001b[0msym\u001b[0m\u001b[0;34m.\u001b[0m\u001b[0mEq\u001b[0m\u001b[0;34m(\u001b[0m\u001b[0mpara2sin\u001b[0m\u001b[0;34m(\u001b[0m\u001b[0mx\u001b[0m\u001b[0;34m,\u001b[0m\u001b[0my\u001b[0m\u001b[0;34m,\u001b[0m\u001b[0mz\u001b[0m\u001b[0;34m,\u001b[0m\u001b[0mtime\u001b[0m\u001b[0;34m[\u001b[0m\u001b[0;36m2\u001b[0m\u001b[0;34m]\u001b[0m\u001b[0;34m)\u001b[0m\u001b[0;34m,\u001b[0m\u001b[0mvoltage\u001b[0m\u001b[0;34m[\u001b[0m\u001b[0;36m2\u001b[0m\u001b[0;34m]\u001b[0m\u001b[0;34m)\u001b[0m\u001b[0;34m\u001b[0m\u001b[0;34m\u001b[0m\u001b[0m\n\u001b[1;32m     49\u001b[0m \u001b[0;34m\u001b[0m\u001b[0m\n\u001b[0;32m---> 50\u001b[0;31m   \u001b[0mans\u001b[0m \u001b[0;34m=\u001b[0m \u001b[0msym\u001b[0m\u001b[0;34m.\u001b[0m\u001b[0msolve\u001b[0m\u001b[0;34m(\u001b[0m\u001b[0;34m[\u001b[0m\u001b[0mf\u001b[0m\u001b[0;34m,\u001b[0m\u001b[0mg\u001b[0m\u001b[0;34m,\u001b[0m\u001b[0mh\u001b[0m\u001b[0;34m]\u001b[0m\u001b[0;34m,\u001b[0m\u001b[0;34m(\u001b[0m\u001b[0mx\u001b[0m\u001b[0;34m,\u001b[0m\u001b[0my\u001b[0m\u001b[0;34m,\u001b[0m\u001b[0mz\u001b[0m\u001b[0;34m)\u001b[0m\u001b[0;34m)\u001b[0m\u001b[0;34m\u001b[0m\u001b[0;34m\u001b[0m\u001b[0m\n\u001b[0m\u001b[1;32m     51\u001b[0m   \u001b[0mprint\u001b[0m\u001b[0;34m(\u001b[0m\u001b[0mans\u001b[0m\u001b[0;34m)\u001b[0m\u001b[0;34m\u001b[0m\u001b[0;34m\u001b[0m\u001b[0m\n\u001b[1;32m     52\u001b[0m \u001b[0;34m\u001b[0m\u001b[0m\n",
            "\u001b[0;32m/usr/local/lib/python3.6/dist-packages/sympy/solvers/solvers.py\u001b[0m in \u001b[0;36msolve\u001b[0;34m(f, *symbols, **flags)\u001b[0m\n\u001b[1;32m   1065\u001b[0m         \u001b[0msolution\u001b[0m \u001b[0;34m=\u001b[0m \u001b[0m_solve\u001b[0m\u001b[0;34m(\u001b[0m\u001b[0mf\u001b[0m\u001b[0;34m[\u001b[0m\u001b[0;36m0\u001b[0m\u001b[0;34m]\u001b[0m\u001b[0;34m,\u001b[0m \u001b[0;34m*\u001b[0m\u001b[0msymbols\u001b[0m\u001b[0;34m,\u001b[0m \u001b[0;34m**\u001b[0m\u001b[0mflags\u001b[0m\u001b[0;34m)\u001b[0m\u001b[0;34m\u001b[0m\u001b[0;34m\u001b[0m\u001b[0m\n\u001b[1;32m   1066\u001b[0m     \u001b[0;32melse\u001b[0m\u001b[0;34m:\u001b[0m\u001b[0;34m\u001b[0m\u001b[0;34m\u001b[0m\u001b[0m\n\u001b[0;32m-> 1067\u001b[0;31m         \u001b[0msolution\u001b[0m \u001b[0;34m=\u001b[0m \u001b[0m_solve_system\u001b[0m\u001b[0;34m(\u001b[0m\u001b[0mf\u001b[0m\u001b[0;34m,\u001b[0m \u001b[0msymbols\u001b[0m\u001b[0;34m,\u001b[0m \u001b[0;34m**\u001b[0m\u001b[0mflags\u001b[0m\u001b[0;34m)\u001b[0m\u001b[0;34m\u001b[0m\u001b[0;34m\u001b[0m\u001b[0m\n\u001b[0m\u001b[1;32m   1068\u001b[0m \u001b[0;34m\u001b[0m\u001b[0m\n\u001b[1;32m   1069\u001b[0m     \u001b[0;31m#\u001b[0m\u001b[0;34m\u001b[0m\u001b[0;34m\u001b[0m\u001b[0;34m\u001b[0m\u001b[0m\n",
            "\u001b[0;32m/usr/local/lib/python3.6/dist-packages/sympy/solvers/solvers.py\u001b[0m in \u001b[0;36m_solve_system\u001b[0;34m(exprs, symbols, **flags)\u001b[0m\n\u001b[1;32m   1742\u001b[0m             \u001b[0;32melse\u001b[0m\u001b[0;34m:\u001b[0m\u001b[0;34m\u001b[0m\u001b[0;34m\u001b[0m\u001b[0m\n\u001b[1;32m   1743\u001b[0m                 \u001b[0;32mtry\u001b[0m\u001b[0;34m:\u001b[0m\u001b[0;34m\u001b[0m\u001b[0;34m\u001b[0m\u001b[0m\n\u001b[0;32m-> 1744\u001b[0;31m                     \u001b[0mresult\u001b[0m \u001b[0;34m=\u001b[0m \u001b[0msolve_poly_system\u001b[0m\u001b[0;34m(\u001b[0m\u001b[0mpolys\u001b[0m\u001b[0;34m,\u001b[0m \u001b[0;34m*\u001b[0m\u001b[0msymbols\u001b[0m\u001b[0;34m)\u001b[0m\u001b[0;34m\u001b[0m\u001b[0;34m\u001b[0m\u001b[0m\n\u001b[0m\u001b[1;32m   1745\u001b[0m                     \u001b[0msolved_syms\u001b[0m \u001b[0;34m=\u001b[0m \u001b[0msymbols\u001b[0m\u001b[0;34m\u001b[0m\u001b[0;34m\u001b[0m\u001b[0m\n\u001b[1;32m   1746\u001b[0m                 \u001b[0;32mexcept\u001b[0m \u001b[0mNotImplementedError\u001b[0m\u001b[0;34m:\u001b[0m\u001b[0;34m\u001b[0m\u001b[0;34m\u001b[0m\u001b[0m\n",
            "\u001b[0;32m/usr/local/lib/python3.6/dist-packages/sympy/solvers/polysys.py\u001b[0m in \u001b[0;36msolve_poly_system\u001b[0;34m(seq, *gens, **args)\u001b[0m\n\u001b[1;32m     47\u001b[0m                 \u001b[0;32mpass\u001b[0m\u001b[0;34m\u001b[0m\u001b[0;34m\u001b[0m\u001b[0m\n\u001b[1;32m     48\u001b[0m \u001b[0;34m\u001b[0m\u001b[0m\n\u001b[0;32m---> 49\u001b[0;31m     \u001b[0;32mreturn\u001b[0m \u001b[0msolve_generic\u001b[0m\u001b[0;34m(\u001b[0m\u001b[0mpolys\u001b[0m\u001b[0;34m,\u001b[0m \u001b[0mopt\u001b[0m\u001b[0;34m)\u001b[0m\u001b[0;34m\u001b[0m\u001b[0;34m\u001b[0m\u001b[0m\n\u001b[0m\u001b[1;32m     50\u001b[0m \u001b[0;34m\u001b[0m\u001b[0m\n\u001b[1;32m     51\u001b[0m \u001b[0;34m\u001b[0m\u001b[0m\n",
            "\u001b[0;32m/usr/local/lib/python3.6/dist-packages/sympy/solvers/polysys.py\u001b[0m in \u001b[0;36msolve_generic\u001b[0;34m(polys, opt)\u001b[0m\n\u001b[1;32m    226\u001b[0m \u001b[0;34m\u001b[0m\u001b[0m\n\u001b[1;32m    227\u001b[0m     \u001b[0;32mtry\u001b[0m\u001b[0;34m:\u001b[0m\u001b[0;34m\u001b[0m\u001b[0;34m\u001b[0m\u001b[0m\n\u001b[0;32m--> 228\u001b[0;31m         \u001b[0mresult\u001b[0m \u001b[0;34m=\u001b[0m \u001b[0m_solve_reduced_system\u001b[0m\u001b[0;34m(\u001b[0m\u001b[0mpolys\u001b[0m\u001b[0;34m,\u001b[0m \u001b[0mopt\u001b[0m\u001b[0;34m.\u001b[0m\u001b[0mgens\u001b[0m\u001b[0;34m,\u001b[0m \u001b[0mentry\u001b[0m\u001b[0;34m=\u001b[0m\u001b[0;32mTrue\u001b[0m\u001b[0;34m)\u001b[0m\u001b[0;34m\u001b[0m\u001b[0;34m\u001b[0m\u001b[0m\n\u001b[0m\u001b[1;32m    229\u001b[0m     \u001b[0;32mexcept\u001b[0m \u001b[0mCoercionFailed\u001b[0m\u001b[0;34m:\u001b[0m\u001b[0;34m\u001b[0m\u001b[0;34m\u001b[0m\u001b[0m\n\u001b[1;32m    230\u001b[0m         \u001b[0;32mraise\u001b[0m \u001b[0mNotImplementedError\u001b[0m\u001b[0;34m\u001b[0m\u001b[0;34m\u001b[0m\u001b[0m\n",
            "\u001b[0;32m/usr/local/lib/python3.6/dist-packages/sympy/solvers/polysys.py\u001b[0m in \u001b[0;36m_solve_reduced_system\u001b[0;34m(system, gens, entry)\u001b[0m\n\u001b[1;32m    182\u001b[0m             \u001b[0;32mreturn\u001b[0m \u001b[0;34m[\u001b[0m \u001b[0;34m(\u001b[0m\u001b[0mzero\u001b[0m\u001b[0;34m,\u001b[0m\u001b[0;34m)\u001b[0m \u001b[0;32mfor\u001b[0m \u001b[0mzero\u001b[0m \u001b[0;32min\u001b[0m \u001b[0mzeros\u001b[0m \u001b[0;34m]\u001b[0m\u001b[0;34m\u001b[0m\u001b[0;34m\u001b[0m\u001b[0m\n\u001b[1;32m    183\u001b[0m \u001b[0;34m\u001b[0m\u001b[0m\n\u001b[0;32m--> 184\u001b[0;31m         \u001b[0mbasis\u001b[0m \u001b[0;34m=\u001b[0m \u001b[0mgroebner\u001b[0m\u001b[0;34m(\u001b[0m\u001b[0msystem\u001b[0m\u001b[0;34m,\u001b[0m \u001b[0mgens\u001b[0m\u001b[0;34m,\u001b[0m \u001b[0mpolys\u001b[0m\u001b[0;34m=\u001b[0m\u001b[0;32mTrue\u001b[0m\u001b[0;34m)\u001b[0m\u001b[0;34m\u001b[0m\u001b[0;34m\u001b[0m\u001b[0m\n\u001b[0m\u001b[1;32m    185\u001b[0m \u001b[0;34m\u001b[0m\u001b[0m\n\u001b[1;32m    186\u001b[0m         \u001b[0;32mif\u001b[0m \u001b[0mlen\u001b[0m\u001b[0;34m(\u001b[0m\u001b[0mbasis\u001b[0m\u001b[0;34m)\u001b[0m \u001b[0;34m==\u001b[0m \u001b[0;36m1\u001b[0m \u001b[0;32mand\u001b[0m \u001b[0mbasis\u001b[0m\u001b[0;34m[\u001b[0m\u001b[0;36m0\u001b[0m\u001b[0;34m]\u001b[0m\u001b[0;34m.\u001b[0m\u001b[0mis_ground\u001b[0m\u001b[0;34m:\u001b[0m\u001b[0;34m\u001b[0m\u001b[0;34m\u001b[0m\u001b[0m\n",
            "\u001b[0;32m/usr/local/lib/python3.6/dist-packages/sympy/polys/polytools.py\u001b[0m in \u001b[0;36mgroebner\u001b[0;34m(F, *gens, **args)\u001b[0m\n\u001b[1;32m   6584\u001b[0m \u001b[0;34m\u001b[0m\u001b[0m\n\u001b[1;32m   6585\u001b[0m     \"\"\"\n\u001b[0;32m-> 6586\u001b[0;31m     \u001b[0;32mreturn\u001b[0m \u001b[0mGroebnerBasis\u001b[0m\u001b[0;34m(\u001b[0m\u001b[0mF\u001b[0m\u001b[0;34m,\u001b[0m \u001b[0;34m*\u001b[0m\u001b[0mgens\u001b[0m\u001b[0;34m,\u001b[0m \u001b[0;34m**\u001b[0m\u001b[0margs\u001b[0m\u001b[0;34m)\u001b[0m\u001b[0;34m\u001b[0m\u001b[0;34m\u001b[0m\u001b[0m\n\u001b[0m\u001b[1;32m   6587\u001b[0m \u001b[0;34m\u001b[0m\u001b[0m\n\u001b[1;32m   6588\u001b[0m \u001b[0;34m\u001b[0m\u001b[0m\n",
            "\u001b[0;32m/usr/local/lib/python3.6/dist-packages/sympy/polys/polytools.py\u001b[0m in \u001b[0;36m__new__\u001b[0;34m(cls, F, *gens, **args)\u001b[0m\n\u001b[1;32m   6623\u001b[0m         \u001b[0mpolys\u001b[0m \u001b[0;34m=\u001b[0m \u001b[0;34m[\u001b[0m\u001b[0mring\u001b[0m\u001b[0;34m.\u001b[0m\u001b[0mfrom_dict\u001b[0m\u001b[0;34m(\u001b[0m\u001b[0mpoly\u001b[0m\u001b[0;34m.\u001b[0m\u001b[0mrep\u001b[0m\u001b[0;34m.\u001b[0m\u001b[0mto_dict\u001b[0m\u001b[0;34m(\u001b[0m\u001b[0;34m)\u001b[0m\u001b[0;34m)\u001b[0m \u001b[0;32mfor\u001b[0m \u001b[0mpoly\u001b[0m \u001b[0;32min\u001b[0m \u001b[0mpolys\u001b[0m \u001b[0;32mif\u001b[0m \u001b[0mpoly\u001b[0m\u001b[0;34m]\u001b[0m\u001b[0;34m\u001b[0m\u001b[0;34m\u001b[0m\u001b[0m\n\u001b[1;32m   6624\u001b[0m \u001b[0;34m\u001b[0m\u001b[0m\n\u001b[0;32m-> 6625\u001b[0;31m         \u001b[0mG\u001b[0m \u001b[0;34m=\u001b[0m \u001b[0m_groebner\u001b[0m\u001b[0;34m(\u001b[0m\u001b[0mpolys\u001b[0m\u001b[0;34m,\u001b[0m \u001b[0mring\u001b[0m\u001b[0;34m,\u001b[0m \u001b[0mmethod\u001b[0m\u001b[0;34m=\u001b[0m\u001b[0mopt\u001b[0m\u001b[0;34m.\u001b[0m\u001b[0mmethod\u001b[0m\u001b[0;34m)\u001b[0m\u001b[0;34m\u001b[0m\u001b[0;34m\u001b[0m\u001b[0m\n\u001b[0m\u001b[1;32m   6626\u001b[0m         \u001b[0mG\u001b[0m \u001b[0;34m=\u001b[0m \u001b[0;34m[\u001b[0m\u001b[0mPoly\u001b[0m\u001b[0;34m.\u001b[0m\u001b[0m_from_dict\u001b[0m\u001b[0;34m(\u001b[0m\u001b[0mg\u001b[0m\u001b[0;34m,\u001b[0m \u001b[0mopt\u001b[0m\u001b[0;34m)\u001b[0m \u001b[0;32mfor\u001b[0m \u001b[0mg\u001b[0m \u001b[0;32min\u001b[0m \u001b[0mG\u001b[0m\u001b[0;34m]\u001b[0m\u001b[0;34m\u001b[0m\u001b[0;34m\u001b[0m\u001b[0m\n\u001b[1;32m   6627\u001b[0m \u001b[0;34m\u001b[0m\u001b[0m\n",
            "\u001b[0;32m/usr/local/lib/python3.6/dist-packages/sympy/polys/groebnertools.py\u001b[0m in \u001b[0;36mgroebner\u001b[0;34m(seq, ring, method)\u001b[0m\n\u001b[1;32m     43\u001b[0m             \u001b[0mseq\u001b[0m \u001b[0;34m=\u001b[0m \u001b[0;34m[\u001b[0m \u001b[0ms\u001b[0m\u001b[0;34m.\u001b[0m\u001b[0mset_ring\u001b[0m\u001b[0;34m(\u001b[0m\u001b[0mring\u001b[0m\u001b[0;34m)\u001b[0m \u001b[0;32mfor\u001b[0m \u001b[0ms\u001b[0m \u001b[0;32min\u001b[0m \u001b[0mseq\u001b[0m \u001b[0;34m]\u001b[0m\u001b[0;34m\u001b[0m\u001b[0;34m\u001b[0m\u001b[0m\n\u001b[1;32m     44\u001b[0m \u001b[0;34m\u001b[0m\u001b[0m\n\u001b[0;32m---> 45\u001b[0;31m     \u001b[0mG\u001b[0m \u001b[0;34m=\u001b[0m \u001b[0m_groebner\u001b[0m\u001b[0;34m(\u001b[0m\u001b[0mseq\u001b[0m\u001b[0;34m,\u001b[0m \u001b[0mring\u001b[0m\u001b[0;34m)\u001b[0m\u001b[0;34m\u001b[0m\u001b[0;34m\u001b[0m\u001b[0m\n\u001b[0m\u001b[1;32m     46\u001b[0m \u001b[0;34m\u001b[0m\u001b[0m\n\u001b[1;32m     47\u001b[0m     \u001b[0;32mif\u001b[0m \u001b[0morig\u001b[0m \u001b[0;32mis\u001b[0m \u001b[0;32mnot\u001b[0m \u001b[0;32mNone\u001b[0m\u001b[0;34m:\u001b[0m\u001b[0;34m\u001b[0m\u001b[0;34m\u001b[0m\u001b[0m\n",
            "\u001b[0;32m/usr/local/lib/python3.6/dist-packages/sympy/polys/groebnertools.py\u001b[0m in \u001b[0;36m_buchberger\u001b[0;34m(f, ring)\u001b[0m\n\u001b[1;32m    236\u001b[0m         \u001b[0;31m# ordering divisors is on average more efficient [Cox] page 111\u001b[0m\u001b[0;34m\u001b[0m\u001b[0;34m\u001b[0m\u001b[0;34m\u001b[0m\u001b[0m\n\u001b[1;32m    237\u001b[0m         \u001b[0mG1\u001b[0m \u001b[0;34m=\u001b[0m \u001b[0msorted\u001b[0m\u001b[0;34m(\u001b[0m\u001b[0mG\u001b[0m\u001b[0;34m,\u001b[0m \u001b[0mkey\u001b[0m\u001b[0;34m=\u001b[0m\u001b[0;32mlambda\u001b[0m \u001b[0mg\u001b[0m\u001b[0;34m:\u001b[0m \u001b[0morder\u001b[0m\u001b[0;34m(\u001b[0m\u001b[0mf\u001b[0m\u001b[0;34m[\u001b[0m\u001b[0mg\u001b[0m\u001b[0;34m]\u001b[0m\u001b[0;34m.\u001b[0m\u001b[0mLM\u001b[0m\u001b[0;34m)\u001b[0m\u001b[0;34m)\u001b[0m\u001b[0;34m\u001b[0m\u001b[0;34m\u001b[0m\u001b[0m\n\u001b[0;32m--> 238\u001b[0;31m         \u001b[0mht\u001b[0m \u001b[0;34m=\u001b[0m \u001b[0mnormal\u001b[0m\u001b[0;34m(\u001b[0m\u001b[0mh\u001b[0m\u001b[0;34m,\u001b[0m \u001b[0mG1\u001b[0m\u001b[0;34m)\u001b[0m\u001b[0;34m\u001b[0m\u001b[0;34m\u001b[0m\u001b[0m\n\u001b[0m\u001b[1;32m    239\u001b[0m \u001b[0;34m\u001b[0m\u001b[0m\n\u001b[1;32m    240\u001b[0m         \u001b[0;32mif\u001b[0m \u001b[0mht\u001b[0m\u001b[0;34m:\u001b[0m\u001b[0;34m\u001b[0m\u001b[0;34m\u001b[0m\u001b[0m\n",
            "\u001b[0;32m/usr/local/lib/python3.6/dist-packages/sympy/polys/groebnertools.py\u001b[0m in \u001b[0;36mnormal\u001b[0;34m(g, J)\u001b[0m\n\u001b[1;32m    107\u001b[0m             \u001b[0;32mreturn\u001b[0m \u001b[0;32mNone\u001b[0m\u001b[0;34m\u001b[0m\u001b[0;34m\u001b[0m\u001b[0m\n\u001b[1;32m    108\u001b[0m         \u001b[0;32melse\u001b[0m\u001b[0;34m:\u001b[0m\u001b[0;34m\u001b[0m\u001b[0;34m\u001b[0m\u001b[0m\n\u001b[0;32m--> 109\u001b[0;31m             \u001b[0mh\u001b[0m \u001b[0;34m=\u001b[0m \u001b[0mh\u001b[0m\u001b[0;34m.\u001b[0m\u001b[0mmonic\u001b[0m\u001b[0;34m(\u001b[0m\u001b[0;34m)\u001b[0m\u001b[0;34m\u001b[0m\u001b[0;34m\u001b[0m\u001b[0m\n\u001b[0m\u001b[1;32m    110\u001b[0m \u001b[0;34m\u001b[0m\u001b[0m\n\u001b[1;32m    111\u001b[0m             \u001b[0;32mif\u001b[0m \u001b[0;32mnot\u001b[0m \u001b[0mh\u001b[0m \u001b[0;32min\u001b[0m \u001b[0mI\u001b[0m\u001b[0;34m:\u001b[0m\u001b[0;34m\u001b[0m\u001b[0;34m\u001b[0m\u001b[0m\n",
            "\u001b[0;32m/usr/local/lib/python3.6/dist-packages/sympy/polys/rings.py\u001b[0m in \u001b[0;36mmonic\u001b[0;34m(f)\u001b[0m\n\u001b[1;32m   1947\u001b[0m             \u001b[0;32mreturn\u001b[0m \u001b[0mf\u001b[0m\u001b[0;34m\u001b[0m\u001b[0;34m\u001b[0m\u001b[0m\n\u001b[1;32m   1948\u001b[0m         \u001b[0;32melse\u001b[0m\u001b[0;34m:\u001b[0m\u001b[0;34m\u001b[0m\u001b[0;34m\u001b[0m\u001b[0m\n\u001b[0;32m-> 1949\u001b[0;31m             \u001b[0;32mreturn\u001b[0m \u001b[0mf\u001b[0m\u001b[0;34m.\u001b[0m\u001b[0mquo_ground\u001b[0m\u001b[0;34m(\u001b[0m\u001b[0mf\u001b[0m\u001b[0;34m.\u001b[0m\u001b[0mLC\u001b[0m\u001b[0;34m)\u001b[0m\u001b[0;34m\u001b[0m\u001b[0;34m\u001b[0m\u001b[0m\n\u001b[0m\u001b[1;32m   1950\u001b[0m \u001b[0;34m\u001b[0m\u001b[0m\n\u001b[1;32m   1951\u001b[0m     \u001b[0;32mdef\u001b[0m \u001b[0mmul_ground\u001b[0m\u001b[0;34m(\u001b[0m\u001b[0mf\u001b[0m\u001b[0;34m,\u001b[0m \u001b[0mx\u001b[0m\u001b[0;34m)\u001b[0m\u001b[0;34m:\u001b[0m\u001b[0;34m\u001b[0m\u001b[0;34m\u001b[0m\u001b[0m\n",
            "\u001b[0;32m/usr/local/lib/python3.6/dist-packages/sympy/polys/rings.py\u001b[0m in \u001b[0;36mquo_ground\u001b[0;34m(f, x)\u001b[0m\n\u001b[1;32m   1983\u001b[0m         \u001b[0;32mif\u001b[0m \u001b[0mdomain\u001b[0m\u001b[0;34m.\u001b[0m\u001b[0mis_Field\u001b[0m\u001b[0;34m:\u001b[0m\u001b[0;34m\u001b[0m\u001b[0;34m\u001b[0m\u001b[0m\n\u001b[1;32m   1984\u001b[0m             \u001b[0mquo\u001b[0m \u001b[0;34m=\u001b[0m \u001b[0mdomain\u001b[0m\u001b[0;34m.\u001b[0m\u001b[0mquo\u001b[0m\u001b[0;34m\u001b[0m\u001b[0;34m\u001b[0m\u001b[0m\n\u001b[0;32m-> 1985\u001b[0;31m             \u001b[0mterms\u001b[0m \u001b[0;34m=\u001b[0m \u001b[0;34m[\u001b[0m \u001b[0;34m(\u001b[0m\u001b[0mmonom\u001b[0m\u001b[0;34m,\u001b[0m \u001b[0mquo\u001b[0m\u001b[0;34m(\u001b[0m\u001b[0mcoeff\u001b[0m\u001b[0;34m,\u001b[0m \u001b[0mx\u001b[0m\u001b[0;34m)\u001b[0m\u001b[0;34m)\u001b[0m \u001b[0;32mfor\u001b[0m \u001b[0mmonom\u001b[0m\u001b[0;34m,\u001b[0m \u001b[0mcoeff\u001b[0m \u001b[0;32min\u001b[0m \u001b[0mf\u001b[0m\u001b[0;34m.\u001b[0m\u001b[0miterterms\u001b[0m\u001b[0;34m(\u001b[0m\u001b[0;34m)\u001b[0m \u001b[0;34m]\u001b[0m\u001b[0;34m\u001b[0m\u001b[0;34m\u001b[0m\u001b[0m\n\u001b[0m\u001b[1;32m   1986\u001b[0m         \u001b[0;32melse\u001b[0m\u001b[0;34m:\u001b[0m\u001b[0;34m\u001b[0m\u001b[0;34m\u001b[0m\u001b[0m\n\u001b[1;32m   1987\u001b[0m             \u001b[0mterms\u001b[0m \u001b[0;34m=\u001b[0m \u001b[0;34m[\u001b[0m \u001b[0;34m(\u001b[0m\u001b[0mmonom\u001b[0m\u001b[0;34m,\u001b[0m \u001b[0mcoeff\u001b[0m \u001b[0;34m//\u001b[0m \u001b[0mx\u001b[0m\u001b[0;34m)\u001b[0m \u001b[0;32mfor\u001b[0m \u001b[0mmonom\u001b[0m\u001b[0;34m,\u001b[0m \u001b[0mcoeff\u001b[0m \u001b[0;32min\u001b[0m \u001b[0mf\u001b[0m\u001b[0;34m.\u001b[0m\u001b[0miterterms\u001b[0m\u001b[0;34m(\u001b[0m\u001b[0;34m)\u001b[0m \u001b[0;32mif\u001b[0m \u001b[0;32mnot\u001b[0m \u001b[0;34m(\u001b[0m\u001b[0mcoeff\u001b[0m \u001b[0;34m%\u001b[0m \u001b[0mx\u001b[0m\u001b[0;34m)\u001b[0m \u001b[0;34m]\u001b[0m\u001b[0;34m\u001b[0m\u001b[0;34m\u001b[0m\u001b[0m\n",
            "\u001b[0;32m/usr/local/lib/python3.6/dist-packages/sympy/polys/rings.py\u001b[0m in \u001b[0;36m<listcomp>\u001b[0;34m(.0)\u001b[0m\n\u001b[1;32m   1983\u001b[0m         \u001b[0;32mif\u001b[0m \u001b[0mdomain\u001b[0m\u001b[0;34m.\u001b[0m\u001b[0mis_Field\u001b[0m\u001b[0;34m:\u001b[0m\u001b[0;34m\u001b[0m\u001b[0;34m\u001b[0m\u001b[0m\n\u001b[1;32m   1984\u001b[0m             \u001b[0mquo\u001b[0m \u001b[0;34m=\u001b[0m \u001b[0mdomain\u001b[0m\u001b[0;34m.\u001b[0m\u001b[0mquo\u001b[0m\u001b[0;34m\u001b[0m\u001b[0;34m\u001b[0m\u001b[0m\n\u001b[0;32m-> 1985\u001b[0;31m             \u001b[0mterms\u001b[0m \u001b[0;34m=\u001b[0m \u001b[0;34m[\u001b[0m \u001b[0;34m(\u001b[0m\u001b[0mmonom\u001b[0m\u001b[0;34m,\u001b[0m \u001b[0mquo\u001b[0m\u001b[0;34m(\u001b[0m\u001b[0mcoeff\u001b[0m\u001b[0;34m,\u001b[0m \u001b[0mx\u001b[0m\u001b[0;34m)\u001b[0m\u001b[0;34m)\u001b[0m \u001b[0;32mfor\u001b[0m \u001b[0mmonom\u001b[0m\u001b[0;34m,\u001b[0m \u001b[0mcoeff\u001b[0m \u001b[0;32min\u001b[0m \u001b[0mf\u001b[0m\u001b[0;34m.\u001b[0m\u001b[0miterterms\u001b[0m\u001b[0;34m(\u001b[0m\u001b[0;34m)\u001b[0m \u001b[0;34m]\u001b[0m\u001b[0;34m\u001b[0m\u001b[0;34m\u001b[0m\u001b[0m\n\u001b[0m\u001b[1;32m   1986\u001b[0m         \u001b[0;32melse\u001b[0m\u001b[0;34m:\u001b[0m\u001b[0;34m\u001b[0m\u001b[0;34m\u001b[0m\u001b[0m\n\u001b[1;32m   1987\u001b[0m             \u001b[0mterms\u001b[0m \u001b[0;34m=\u001b[0m \u001b[0;34m[\u001b[0m \u001b[0;34m(\u001b[0m\u001b[0mmonom\u001b[0m\u001b[0;34m,\u001b[0m \u001b[0mcoeff\u001b[0m \u001b[0;34m//\u001b[0m \u001b[0mx\u001b[0m\u001b[0;34m)\u001b[0m \u001b[0;32mfor\u001b[0m \u001b[0mmonom\u001b[0m\u001b[0;34m,\u001b[0m \u001b[0mcoeff\u001b[0m \u001b[0;32min\u001b[0m \u001b[0mf\u001b[0m\u001b[0;34m.\u001b[0m\u001b[0miterterms\u001b[0m\u001b[0;34m(\u001b[0m\u001b[0;34m)\u001b[0m \u001b[0;32mif\u001b[0m \u001b[0;32mnot\u001b[0m \u001b[0;34m(\u001b[0m\u001b[0mcoeff\u001b[0m \u001b[0;34m%\u001b[0m \u001b[0mx\u001b[0m\u001b[0;34m)\u001b[0m \u001b[0;34m]\u001b[0m\u001b[0;34m\u001b[0m\u001b[0;34m\u001b[0m\u001b[0m\n",
            "\u001b[0;32m/usr/local/lib/python3.6/dist-packages/sympy/polys/domains/field.py\u001b[0m in \u001b[0;36mquo\u001b[0;34m(self, a, b)\u001b[0m\n\u001b[1;32m     28\u001b[0m     \u001b[0;32mdef\u001b[0m \u001b[0mquo\u001b[0m\u001b[0;34m(\u001b[0m\u001b[0mself\u001b[0m\u001b[0;34m,\u001b[0m \u001b[0ma\u001b[0m\u001b[0;34m,\u001b[0m \u001b[0mb\u001b[0m\u001b[0;34m)\u001b[0m\u001b[0;34m:\u001b[0m\u001b[0;34m\u001b[0m\u001b[0;34m\u001b[0m\u001b[0m\n\u001b[1;32m     29\u001b[0m         \u001b[0;34m\"\"\"Quotient of ``a`` and ``b``, implies ``__div__``. \"\"\"\u001b[0m\u001b[0;34m\u001b[0m\u001b[0;34m\u001b[0m\u001b[0m\n\u001b[0;32m---> 30\u001b[0;31m         \u001b[0;32mreturn\u001b[0m \u001b[0ma\u001b[0m \u001b[0;34m/\u001b[0m \u001b[0mb\u001b[0m\u001b[0;34m\u001b[0m\u001b[0;34m\u001b[0m\u001b[0m\n\u001b[0m\u001b[1;32m     31\u001b[0m \u001b[0;34m\u001b[0m\u001b[0m\n\u001b[1;32m     32\u001b[0m     \u001b[0;32mdef\u001b[0m \u001b[0mrem\u001b[0m\u001b[0;34m(\u001b[0m\u001b[0mself\u001b[0m\u001b[0;34m,\u001b[0m \u001b[0ma\u001b[0m\u001b[0;34m,\u001b[0m \u001b[0mb\u001b[0m\u001b[0;34m)\u001b[0m\u001b[0;34m:\u001b[0m\u001b[0;34m\u001b[0m\u001b[0;34m\u001b[0m\u001b[0m\n",
            "\u001b[0;32m/usr/local/lib/python3.6/dist-packages/sympy/polys/domains/pythonrational.py\u001b[0m in \u001b[0;36m__div__\u001b[0;34m(self, other)\u001b[0m\n\u001b[1;32m    196\u001b[0m             \u001b[0mx1\u001b[0m \u001b[0;34m=\u001b[0m \u001b[0mgcd\u001b[0m\u001b[0;34m(\u001b[0m\u001b[0map\u001b[0m\u001b[0;34m,\u001b[0m \u001b[0mbp\u001b[0m\u001b[0;34m)\u001b[0m\u001b[0;34m\u001b[0m\u001b[0;34m\u001b[0m\u001b[0m\n\u001b[1;32m    197\u001b[0m             \u001b[0mx2\u001b[0m \u001b[0;34m=\u001b[0m \u001b[0mgcd\u001b[0m\u001b[0;34m(\u001b[0m\u001b[0mbq\u001b[0m\u001b[0;34m,\u001b[0m \u001b[0maq\u001b[0m\u001b[0;34m)\u001b[0m\u001b[0;34m\u001b[0m\u001b[0;34m\u001b[0m\u001b[0m\n\u001b[0;32m--> 198\u001b[0;31m             \u001b[0mp\u001b[0m\u001b[0;34m,\u001b[0m \u001b[0mq\u001b[0m \u001b[0;34m=\u001b[0m \u001b[0;34m(\u001b[0m\u001b[0;34m(\u001b[0m\u001b[0map\u001b[0m\u001b[0;34m//\u001b[0m\u001b[0mx1\u001b[0m\u001b[0;34m)\u001b[0m\u001b[0;34m*\u001b[0m\u001b[0;34m(\u001b[0m\u001b[0mbq\u001b[0m\u001b[0;34m//\u001b[0m\u001b[0mx2\u001b[0m\u001b[0;34m)\u001b[0m\u001b[0;34m,\u001b[0m \u001b[0;34m(\u001b[0m\u001b[0maq\u001b[0m\u001b[0;34m//\u001b[0m\u001b[0mx2\u001b[0m\u001b[0;34m)\u001b[0m\u001b[0;34m*\u001b[0m\u001b[0;34m(\u001b[0m\u001b[0mbp\u001b[0m\u001b[0;34m//\u001b[0m\u001b[0mx1\u001b[0m\u001b[0;34m)\u001b[0m\u001b[0;34m)\u001b[0m\u001b[0;34m\u001b[0m\u001b[0;34m\u001b[0m\u001b[0m\n\u001b[0m\u001b[1;32m    199\u001b[0m         \u001b[0;32melif\u001b[0m \u001b[0misinstance\u001b[0m\u001b[0;34m(\u001b[0m\u001b[0mother\u001b[0m\u001b[0;34m,\u001b[0m \u001b[0minteger_types\u001b[0m\u001b[0;34m)\u001b[0m\u001b[0;34m:\u001b[0m\u001b[0;34m\u001b[0m\u001b[0;34m\u001b[0m\u001b[0m\n\u001b[1;32m    200\u001b[0m             \u001b[0mx\u001b[0m \u001b[0;34m=\u001b[0m \u001b[0mgcd\u001b[0m\u001b[0;34m(\u001b[0m\u001b[0mother\u001b[0m\u001b[0;34m,\u001b[0m \u001b[0mself\u001b[0m\u001b[0;34m.\u001b[0m\u001b[0mp\u001b[0m\u001b[0;34m)\u001b[0m\u001b[0;34m\u001b[0m\u001b[0;34m\u001b[0m\u001b[0m\n",
            "\u001b[0;31mKeyboardInterrupt\u001b[0m: "
          ]
        }
      ]
    }
  ]
}