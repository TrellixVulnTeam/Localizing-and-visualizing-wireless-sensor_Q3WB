{
  "nbformat": 4,
  "nbformat_minor": 0,
  "metadata": {
    "colab": {
      "name": "Copy of HW2.ipynb",
      "provenance": [],
      "collapsed_sections": [],
      "include_colab_link": true
    },
    "kernelspec": {
      "name": "python3",
      "display_name": "Python 3"
    }
  },
  "cells": [
    {
      "cell_type": "markdown",
      "metadata": {
        "id": "view-in-github",
        "colab_type": "text"
      },
      "source": [
        "<a href=\"https://colab.research.google.com/github/uclalch/Localizing-and-visualizing-wireless-sensor/blob/master/Copy_of_HW2.ipynb\" target=\"_parent\"><img src=\"https://colab.research.google.com/assets/colab-badge.svg\" alt=\"Open In Colab\"/></a>"
      ]
    },
    {
      "cell_type": "markdown",
      "metadata": {
        "id": "HHEXA-TUpa_j",
        "colab_type": "text"
      },
      "source": [
        "# UCLA Fall 2019 ECEM202A/CSM213A Assignment 2\n",
        "## Due: December 13, 11:59PM\n",
        "Instructions: \n",
        "* There will be no deadline extension.\n",
        "* Please make a copy of this [Google Colab](https://colab.research.google.com/) notebook and put your code and answer within it.\n",
        "* You can use any Python package. You may need to install it if Google Colab doesn't already have it.\n",
        "* You have to submit this homework via Gradescope. You have already been enrolled there using the official roster. In the PDF that you upload on Gradescope, please start the answer to every problem on a new page and make sure to assign pages to each of problem/subproblem correctly within Gradescope.\n",
        "---"
      ]
    },
    {
      "cell_type": "markdown",
      "metadata": {
        "id": "FbPI_UFtERnc",
        "colab_type": "text"
      },
      "source": [
        "### Your Name:\n",
        "Gabriel Biren\n",
        "\n",
        "### URL:\n",
        "\n",
        "https://colab.research.google.com/drive/1gghftJMdlUT77eF_uDX07lGsfrNWWHur\n",
        "\n",
        "---"
      ]
    },
    {
      "cell_type": "markdown",
      "metadata": {
        "id": "li3VSFSdp_Qy",
        "colab_type": "text"
      },
      "source": [
        "## Problem #1: Topic Deep Dive [15 points]\n",
        "\n",
        "Pick one of the topics from the list below, and based on web research write a 1-2 page (500-1000 words; excluding references and figures) essay / survey on the topic. Adapt your presentation to the nature of the topic with the goal of informing the reader about the current state of technology.\n",
        "\n",
        "* Ultra-low-latency networking and its applications\n",
        "* Time synchronization and latency in financial markets\n",
        "* Security vulnerabilities and mitigation in NTP"
      ]
    },
    {
      "cell_type": "markdown",
      "metadata": {
        "id": "xUZTXQsvqJXl",
        "colab_type": "text"
      },
      "source": [
        "### Answer:\n",
        "\n",
        "The Network Time Protocol (NTP) is used to synchronize computers to Coordinated Universal Time (UTC). The protocol relies on a hierarchy of NTP daemons which respond to time synchronization requests from devices that are lower in the hierarchy. At the root are Level 0 devices such as the US Naval Observatory Master Clock, which should only be accessed by Level 1 devices. Level 1 devices can provide information to Level 2 devices, Level 2 devices can provide information to Level 3 devices, and so on.\n",
        "\n",
        "NTP makes use of four important timestamps.\n",
        "t1: When the client sends the request to the NTP server\n",
        "\n",
        "*   t1: When the client sends the request\n",
        "*   t2: When the server receives the request\n",
        "*   t3: When the server sends the response to the client\n",
        "*   t4: When the client receives the response\n",
        "\n",
        "\n",
        "These are used in conjunction with the following equations. First, we find the Clock Offset which equals [(t2-t1)+(t3-t4)]/2. Next, we find the Roundtrip Delay which equals (t4-t1)-(t3-t2). The client continually sends packets to the server and adjusts its clock frequency to reduce the offset. The synchronization is complete when the delays from client to server and server to client are close to equal.\n",
        "\n",
        "Several security issues have been raised around NTP. For instance, NTP servers can be used to amplify a DDoS attack. DDoS attacks involve sending large volumes of data to a server in order to overwhelm it. The required volume of traffic is difficult for an attacker to send, but amplification relies on the fact that some web services, such as NTP, send a large reply in response to a small request. If the attacker sends several small requests to an NTP server ans spoofs the sender address such that it points to a target, the NTP server will send a large volume of traffic to the target. [1]\n",
        "\n",
        "There are two major solutions to this problem. First, the system administrator can carefully filter traffic related to NTP. Requests that seem to originate from outside of the local network are likely to be malicious and can be ignored. In addition, NTP installations that are lower than 4.2.7 allow the remote command monlist which returns the last 600 hosts that have connected to the server. This generates a large volume of traffic, so it should be disabled by upgrading to version 4.2.7 or above. [2]\n",
        "\n",
        "In addition, NTP packets are not usually signed because of the overhead involved in cryptography. This leaves them susceptible to man-in-the-middle attacks where attackers can send their own replies to the client’s requests. This allows attackers to shift a client’s clock, possibly bypassing security mechanisms that rely keys that expire after a certain time such as TLS and DNSSEC. The main defense against this is to secure NTP packets using cryptography, but this might not always be feasible, especially in environments where large volumes of data are handled. [3]\n",
        "\n",
        "In conclusion, NTP is a useful protocol for synchronizing clocks to UTC. However, some security issues do exist. The problem of NTP servers being used in amplification attacks can be mitigated using techniques that avoid sending large responses to suspicious queries. Man-in-the-middle attacks that change a client’s system time are more difficult to avoid. The use of cryptography can greatly reduce this risk, but it comes at a performance cost, especially in high-traffic environments.\n",
        "\n",
        "\n",
        "[1] https://www.eecis.udel.edu/~mills/ntp/html/warp.html\n",
        "\n",
        "[2] https://www.cloudflare.com/learning/ddos/ntp-amplification-ddos-attack/\n",
        "\n",
        "[3] http://www.cs.bu.edu/~goldbe/papers/NTPattack.pdf\n",
        "\n"
      ]
    },
    {
      "cell_type": "markdown",
      "metadata": {
        "id": "kRTNfUrvqfvI",
        "colab_type": "text"
      },
      "source": [
        "---"
      ]
    },
    {
      "cell_type": "markdown",
      "metadata": {
        "id": "RyHpCpyX_Psb",
        "colab_type": "text"
      },
      "source": [
        "## Problem #2: In the News [5 points]\n",
        "\n",
        "Research the web to find an incident that resulted in loss of service or of life or property, and whose cause related to the computing system having bad information about time. Your example must not be one that are already in the lecture slides. In a few sentences (max 200 words) describe the incident(s), the cause, and possible mitigation."
      ]
    },
    {
      "cell_type": "markdown",
      "metadata": {
        "id": "cub9zIuG_W5p",
        "colab_type": "text"
      },
      "source": [
        "### Answer:\n",
        "The cryptocurrency Verge was attacked with a time-based attack in 2018. Each block in the system has an associated timestamp, and the difficulty of the mining challenge is adjusted based on the timestamps of the submitted blocks. The system aims to confirm a block every 30 seconds, so it can make mining easier if not enough blocks are submitted in the sliding 30-seconds window.\n",
        "\n",
        "This adjustable difficulty was exploited by submitting blocks with timestamps that were spoofed to about 1 hour before the present time. This confused the system into making the challenge signifigantly easier, allowing the attacker to mine blocks at a rate that earned them about $80 per second. \n",
        "\n",
        "One defense against this is to adjust the challenge difficulty less often. Bitcoin adjusts its difficulty after every 2016 blocks, which means it will change every 2 weeks rather than every 30 seconds. This effectively prevents an attacker from changing the difficulty so rapidly. [Source](https://blog.theabacus.io/the-verge-hack-explained-7942f63a3017)"
      ]
    },
    {
      "cell_type": "markdown",
      "metadata": {
        "id": "h2ptZvQbDMN0",
        "colab_type": "text"
      },
      "source": [
        "---"
      ]
    },
    {
      "cell_type": "markdown",
      "metadata": {
        "id": "OalKYt_iDLIo",
        "colab_type": "text"
      },
      "source": [
        "## Problem #3: Short Questions on Time [5 x 2 = 10 points]\n",
        "\n",
        "Note: The following will be graded on a binary basis with either zero score or full credit being given."
      ]
    },
    {
      "cell_type": "markdown",
      "metadata": {
        "id": "k-LbVBDpFFm2",
        "colab_type": "text"
      },
      "source": [
        "**a. Name at least two factors that fundamentally limit how precisely one can synchronize two computers talking over a communication link. Expain.**"
      ]
    },
    {
      "cell_type": "markdown",
      "metadata": {
        "id": "6E7GK5vPGUYy",
        "colab_type": "text"
      },
      "source": [
        "Answer: Two factors that can affect this are asymmetric routes and the amount of congestion on the network. Both factors make the network latency highly unpredictable, making it difficult to syncronize with a protocol like NTP."
      ]
    },
    {
      "cell_type": "markdown",
      "metadata": {
        "id": "b6I5Ea6NGFA6",
        "colab_type": "text"
      },
      "source": [
        "**b. With current technology how precisely can one synchronize two computers connected via an ethernet cable>? Explain your answer and support any assumptions via references.**"
      ]
    },
    {
      "cell_type": "markdown",
      "metadata": {
        "id": "aiEhG3M_GVrt",
        "colab_type": "text"
      },
      "source": [
        "*Answer*: One of the most precise syncronization methods is the Precision Time Protocol (PTP), which is capable of syncronizing computers to nanosecond accuracy. This is signifigantly better than NTP, which aims to syncronize computers to within 1 millisecond. One major reason for this difference is that PTP uses hardware timestamps while NTP uses software timestamps. [Source](https://www.masterclock.com/support/library/network-timing-ntp-vs-ptp)"
      ]
    },
    {
      "cell_type": "markdown",
      "metadata": {
        "id": "Mmz1jlpfGWck",
        "colab_type": "text"
      },
      "source": [
        "**c. There is considerable ambiguity in jargon relating to clocks, and it does not helpo that different research communities use different terms. One relevant standard is Internet RFC 2330 (Framework for IP Performance Metrics). Read Section 10 of this RFC, and describe what is the difference between the following terms: offset, relative offset, skew, relative skew, and drift.**"
      ]
    },
    {
      "cell_type": "markdown",
      "metadata": {
        "id": "JZEjAQNLI6R1",
        "colab_type": "text"
      },
      "source": [
        "Answer:\n",
        "\n",
        "* **Offset:** difference between the time on the local clock and the \"true\" UTC time\n",
        "* **Relative Offset:** difference between the time on two local clocks\n",
        "* **Skew:** the frequency difference between the clock and the true time, where the frequency difference is the 1st derivative of the offset with repsect to the true time\n",
        "* **Relative Skew:** the frequency difference between two local clocks\n",
        "* **Drift:** the variation in skew, found as the 2nd derivative of the offset with respect to the true time"
      ]
    },
    {
      "cell_type": "markdown",
      "metadata": {
        "id": "k5Oey4nBJBKw",
        "colab_type": "text"
      },
      "source": [
        "**d. What is the process of minimizing the difference between the frequencies of two clocks called?**"
      ]
    },
    {
      "cell_type": "markdown",
      "metadata": {
        "id": "11I9BHqjKBvt",
        "colab_type": "text"
      },
      "source": [
        "Answer: Synchronization"
      ]
    },
    {
      "cell_type": "markdown",
      "metadata": {
        "id": "GU_ECvx-KN9H",
        "colab_type": "text"
      },
      "source": [
        "***e. Allowing software processes running on a computer to measure passage of time very precisely can lead to security problems, to the extent that in some computer systems the time made visible to an application is made deliberately less precise. Can you suggest one security vulnerability that occurs because time intervals can be measured too well? Provide reference to any paper that you consult.***"
      ]
    },
    {
      "cell_type": "markdown",
      "metadata": {
        "id": "HXuY-kg_KLn9",
        "colab_type": "text"
      },
      "source": [
        "Answer: Suppose an industrial control system uses precise timestamps in its operations. A developer that is new to the project might not be aware of the precise timestamp format, and might instead create a new timestamp using a less precise format. An accidental comparison in the code between the precise and nonprecise timestamps might create a vulnerability, since a precision error could be exploited to cause the code to go down an improper path."
      ]
    },
    {
      "cell_type": "markdown",
      "metadata": {
        "id": "PXqOxvvZ_aRn",
        "colab_type": "text"
      },
      "source": [
        "---"
      ]
    },
    {
      "cell_type": "markdown",
      "metadata": {
        "id": "ECpFaFKYqEY2",
        "colab_type": "text"
      },
      "source": [
        "## Problem #4: Analyzing Quality of Clocks [4 x 5 = 20 points]\n",
        "\n",
        "In the lecture we saw how clocks drift differently to each other. Assume we have two crystal oscillators both running at a nominal frequency of 8 MHz. We connect each crystal to a counter, and collect in regular intervals the value of the counter. The frequency with which we collect the values is precisely 1Hz (you can assume that this is generated by an atomic clock). \n",
        "\n",
        "Answer the following questions by using clock measurement data in the CSV file at https://drive.google.com/file/d/1AIkNxEWXCqGCEO6hPGHlkU5lHM5Sk6Dz. The columns are: atomic time [seconds], temperature, count of crystal 1, count of crystal 2.\n",
        "\n",
        "All your code should be in the code blocks below and be runnable."
      ]
    },
    {
      "cell_type": "markdown",
      "metadata": {
        "id": "2zp3NgZ7vPXR",
        "colab_type": "text"
      },
      "source": [
        "#### a. Calculate and plot the Allan variance for each crystal.\n",
        "\n",
        "#### Answer:"
      ]
    },
    {
      "cell_type": "code",
      "metadata": {
        "id": "zcSwpRYNvwNM",
        "colab_type": "code",
        "colab": {}
      },
      "source": [
        "# Code for part a"
      ],
      "execution_count": 0,
      "outputs": []
    },
    {
      "cell_type": "markdown",
      "metadata": {
        "id": "jZdYvInFvRRN",
        "colab_type": "text"
      },
      "source": [
        "#### b. Extract the temperature vs. frequency curve for each crystal and plot it.\n",
        "\n",
        "#### Answer:"
      ]
    },
    {
      "cell_type": "code",
      "metadata": {
        "id": "Wp56z8alv_ZL",
        "colab_type": "code",
        "colab": {}
      },
      "source": [
        "# Code for part b"
      ],
      "execution_count": 0,
      "outputs": []
    },
    {
      "cell_type": "markdown",
      "metadata": {
        "id": "_Ea6nb74vSV0",
        "colab_type": "text"
      },
      "source": [
        "#### c. By using the T vs. f curve from the part (b), create a TCXO and compensate the frequency of each crystal.\n",
        "\n",
        "#### Answer:"
      ]
    },
    {
      "cell_type": "code",
      "metadata": {
        "id": "KcbowvrWwKnK",
        "colab_type": "code",
        "colab": {}
      },
      "source": [
        "# Code for part c"
      ],
      "execution_count": 0,
      "outputs": []
    },
    {
      "cell_type": "markdown",
      "metadata": {
        "id": "klomNTN1wMVA",
        "colab_type": "text"
      },
      "source": [
        "#### d. Plot a graph that shows the error without and with compensation, compared to what an atomic clock would have. Calculate the Allan variance of the compensated crystal. Do you notice something?\n",
        "\n",
        "#### Answer:"
      ]
    },
    {
      "cell_type": "code",
      "metadata": {
        "id": "ezCsovGhwVa4",
        "colab_type": "code",
        "colab": {}
      },
      "source": [
        "# Code for part d"
      ],
      "execution_count": 0,
      "outputs": []
    },
    {
      "cell_type": "markdown",
      "metadata": {
        "id": "loBT8lrCcTX5",
        "colab_type": "text"
      },
      "source": [
        "\n",
        "\n",
        "---\n",
        "\n"
      ]
    },
    {
      "cell_type": "markdown",
      "metadata": {
        "id": "rUhJHpNl--qk",
        "colab_type": "text"
      },
      "source": [
        "## Problem #5: Smarter Sampling [10 points]\n",
        "\n",
        "You have a sensor that measured a single over a 10 second time interval. We are given that the physical process generates a sine wave $a \\cdot sin(2 \\cdot \\pi \\cdot f \\cdot t + \\phi)$ of some unknown amplitude $a$, frequence $f$, and phase $\\phi$. In light of this knowledge, the software saves on sampling by only making 8 measurements over the 10 second interval based on the idea that there are only three unknown parameters in a sine wave, and thus only a minimum of three samples are needed (and any more only serve to make tbe estimate more robust0. The measurements are as below (time is in seconds from the start of the interval). \n",
        "\n",
        "Reconstruct the measured signal waveform over the 10s interval by estimating the amplitude, frequency (in Hz), and phase (in radians). \n",
        "\n",
        "Think about both scalability and accuracy of your solution.\n",
        "\n",
        "| t (sec) | v |\n",
        "|----- | --- |\n",
        "| 5.71403 | 0.347064 |\n",
        "| 4.28889 | -0.396854 |\n",
        "| 5.78091 | -7.29133e-05 |\n",
        "| 2.06098 | 0.380579 |\n",
        "| 8.13321 | 0.272391 |\n",
        "| 8.23589 | -0.304111 |\n",
        "| 6.53473 | 0.265354 |\n",
        "| 1.6023 | 0.131908 |\n"
      ]
    },
    {
      "cell_type": "code",
      "metadata": {
        "id": "nFhn4ElRTkmG",
        "colab_type": "code",
        "colab": {}
      },
      "source": [
        "measurements = [(5.71403,0.347064), (4.28889, -0.396854), (5.78091, -7.29133e-05), \n",
        "(2.06098, 0.380579), (8.13321, 0.272391), (8.23589, -0.304111), (6.53473, 0.265354), (1.6023, 0.131908)]\n",
        "\n",
        "# write the function below, returning a tuple (amplitude, frequency, phase)\n",
        "def reconstruct_waveform(data):\n",
        "  # replace the body with your code\n",
        "  assert False, \"Not Implemented\"\n",
        "\n",
        "reconstruct_waveform(measurements)"
      ],
      "execution_count": 0,
      "outputs": []
    },
    {
      "cell_type": "code",
      "metadata": {
        "id": "UwDhR4Y6tJa7",
        "colab_type": "code",
        "colab": {}
      },
      "source": [
        ""
      ],
      "execution_count": 0,
      "outputs": []
    }
  ]
}